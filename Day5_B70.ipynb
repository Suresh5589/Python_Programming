{
 "cells": [
  {
   "cell_type": "code",
   "execution_count": null,
   "id": "e765bbaf",
   "metadata": {},
   "outputs": [],
   "source": [
    "Continuation with lists"
   ]
  },
  {
   "cell_type": "code",
   "execution_count": null,
   "id": "097eec18",
   "metadata": {},
   "outputs": [],
   "source": [
    "Organising the list:"
   ]
  },
  {
   "cell_type": "code",
   "execution_count": 1,
   "id": "119824cb",
   "metadata": {},
   "outputs": [],
   "source": [
    "cars = ['ferari,''audi','maruthi','suzuki','jaquar','bmw','honda']"
   ]
  },
  {
   "cell_type": "code",
   "execution_count": 2,
   "id": "2806dc6d",
   "metadata": {},
   "outputs": [
    {
     "name": "stdout",
     "output_type": "stream",
     "text": [
      "['ferari,audi', 'maruthi', 'suzuki', 'jaquar', 'bmw', 'honda']\n"
     ]
    }
   ],
   "source": [
    "print(cars)"
   ]
  },
  {
   "cell_type": "code",
   "execution_count": 3,
   "id": "83d05ed1",
   "metadata": {},
   "outputs": [
    {
     "data": {
      "text/plain": [
       "list"
      ]
     },
     "execution_count": 3,
     "metadata": {},
     "output_type": "execute_result"
    }
   ],
   "source": [
    "type(cars)"
   ]
  },
  {
   "cell_type": "code",
   "execution_count": null,
   "id": "14f9a445",
   "metadata": {},
   "outputs": [],
   "source": [
    "# i want to organise the above list in alphabetical order"
   ]
  },
  {
   "cell_type": "code",
   "execution_count": null,
   "id": "ff789277",
   "metadata": {},
   "outputs": [],
   "source": [
    "two methods"
   ]
  },
  {
   "cell_type": "code",
   "execution_count": null,
   "id": "a10633c5",
   "metadata": {},
   "outputs": [],
   "source": [
    "1. Temporary approch ----> sorted() --> we will be able to maintaine the list in original order\n",
    "2. permenent approch ----> sort() --> changes are implimanted permanently"
   ]
  },
  {
   "cell_type": "code",
   "execution_count": 4,
   "id": "d6c46780",
   "metadata": {},
   "outputs": [
    {
     "name": "stdout",
     "output_type": "stream",
     "text": [
      "['bmw', 'ferari,audi', 'honda', 'jaquar', 'maruthi', 'suzuki']\n"
     ]
    }
   ],
   "source": [
    "print(sorted(cars))"
   ]
  },
  {
   "cell_type": "code",
   "execution_count": 5,
   "id": "f98b5548",
   "metadata": {},
   "outputs": [],
   "source": [
    "cars = ['ferari','audi','maruthi','suzuki','jaquar','bmw','honda']"
   ]
  },
  {
   "cell_type": "code",
   "execution_count": 6,
   "id": "92a2f64d",
   "metadata": {},
   "outputs": [
    {
     "name": "stdout",
     "output_type": "stream",
     "text": [
      "['ferari', 'audi', 'maruthi', 'suzuki', 'jaquar', 'bmw', 'honda']\n"
     ]
    }
   ],
   "source": [
    "print(cars)"
   ]
  },
  {
   "cell_type": "code",
   "execution_count": 7,
   "id": "d3ebcc66",
   "metadata": {},
   "outputs": [
    {
     "name": "stdout",
     "output_type": "stream",
     "text": [
      "['audi', 'bmw', 'ferari', 'honda', 'jaquar', 'maruthi', 'suzuki']\n"
     ]
    }
   ],
   "source": [
    "print(sorted(cars))"
   ]
  },
  {
   "cell_type": "code",
   "execution_count": null,
   "id": "08b8be3d",
   "metadata": {},
   "outputs": [],
   "source": [
    "permenent method"
   ]
  },
  {
   "cell_type": "code",
   "execution_count": 8,
   "id": "c1422e0b",
   "metadata": {},
   "outputs": [],
   "source": [
    "cars.sort()"
   ]
  },
  {
   "cell_type": "code",
   "execution_count": 9,
   "id": "79ae7e22",
   "metadata": {},
   "outputs": [
    {
     "name": "stdout",
     "output_type": "stream",
     "text": [
      "['audi', 'bmw', 'ferari', 'honda', 'jaquar', 'maruthi', 'suzuki']\n"
     ]
    }
   ],
   "source": [
    "print(cars)"
   ]
  },
  {
   "cell_type": "code",
   "execution_count": null,
   "id": "59fea222",
   "metadata": {},
   "outputs": [],
   "source": [
    "#req: i want to print the reverse order"
   ]
  },
  {
   "cell_type": "code",
   "execution_count": 10,
   "id": "c81f8def",
   "metadata": {},
   "outputs": [],
   "source": [
    "cars.reverse()"
   ]
  },
  {
   "cell_type": "code",
   "execution_count": 11,
   "id": "4dd3a9f9",
   "metadata": {},
   "outputs": [
    {
     "name": "stdout",
     "output_type": "stream",
     "text": [
      "['suzuki', 'maruthi', 'jaquar', 'honda', 'ferari', 'bmw', 'audi']\n"
     ]
    }
   ],
   "source": [
    "print(cars)"
   ]
  },
  {
   "cell_type": "code",
   "execution_count": null,
   "id": "c7f5ad5b",
   "metadata": {},
   "outputs": [],
   "source": [
    "#req: i want to calculate no of element in the list --- len()"
   ]
  },
  {
   "cell_type": "code",
   "execution_count": 12,
   "id": "86393d54",
   "metadata": {},
   "outputs": [
    {
     "data": {
      "text/plain": [
       "7"
      ]
     },
     "execution_count": 12,
     "metadata": {},
     "output_type": "execute_result"
    }
   ],
   "source": [
    "len(cars)"
   ]
  },
  {
   "cell_type": "code",
   "execution_count": 14,
   "id": "1b5b684c",
   "metadata": {},
   "outputs": [
    {
     "name": "stdout",
     "output_type": "stream",
     "text": [
      "The Zen of Python, by Tim Peters\n",
      "\n",
      "Beautiful is better than ugly.\n",
      "Explicit is better than implicit.\n",
      "Simple is better than complex.\n",
      "Complex is better than complicated.\n",
      "Flat is better than nested.\n",
      "Sparse is better than dense.\n",
      "Readability counts.\n",
      "Special cases aren't special enough to break the rules.\n",
      "Although practicality beats purity.\n",
      "Errors should never pass silently.\n",
      "Unless explicitly silenced.\n",
      "In the face of ambiguity, refuse the temptation to guess.\n",
      "There should be one-- and preferably only one --obvious way to do it.\n",
      "Although that way may not be obvious at first unless you're Dutch.\n",
      "Now is better than never.\n",
      "Although never is often better than *right* now.\n",
      "If the implementation is hard to explain, it's a bad idea.\n",
      "If the implementation is easy to explain, it may be a good idea.\n",
      "Namespaces are one honking great idea -- let's do more of those!\n"
     ]
    }
   ],
   "source": [
    "import this"
   ]
  },
  {
   "cell_type": "code",
   "execution_count": null,
   "id": "ceb35277",
   "metadata": {},
   "outputs": [],
   "source": [
    "slicing of list"
   ]
  },
  {
   "cell_type": "code",
   "execution_count": null,
   "id": "3fd13fce",
   "metadata": {},
   "outputs": [],
   "source": [
    "general syntax of slicing"
   ]
  },
  {
   "cell_type": "code",
   "execution_count": null,
   "id": "6f8648e3",
   "metadata": {},
   "outputs": [],
   "source": [
    "[startvalue:stopvalue:stepcount]"
   ]
  },
  {
   "cell_type": "code",
   "execution_count": null,
   "id": "c23623df",
   "metadata": {},
   "outputs": [],
   "source": [
    "note: stop value is always exclusive to include the stop value we have to increse + 1."
   ]
  },
  {
   "cell_type": "code",
   "execution_count": 15,
   "id": "7c375ade",
   "metadata": {},
   "outputs": [],
   "source": [
    "students = ['sonu','ruban','srikanth','ajay','balu','lakshmi']"
   ]
  },
  {
   "cell_type": "code",
   "execution_count": null,
   "id": "03dc6a0a",
   "metadata": {},
   "outputs": [],
   "source": [
    "#req: i want to get the name of sonu and ruban"
   ]
  },
  {
   "cell_type": "code",
   "execution_count": 16,
   "id": "358b6510",
   "metadata": {},
   "outputs": [
    {
     "name": "stdout",
     "output_type": "stream",
     "text": [
      "['sonu']\n"
     ]
    }
   ],
   "source": [
    "print(students[0:1])"
   ]
  },
  {
   "cell_type": "code",
   "execution_count": 17,
   "id": "8736f851",
   "metadata": {},
   "outputs": [
    {
     "name": "stdout",
     "output_type": "stream",
     "text": [
      "['sonu', 'ruban']\n"
     ]
    }
   ],
   "source": [
    "print(students[0:2])"
   ]
  },
  {
   "cell_type": "code",
   "execution_count": 18,
   "id": "4b0b6410",
   "metadata": {},
   "outputs": [
    {
     "name": "stdout",
     "output_type": "stream",
     "text": [
      "['sonu', 'ruban', 'srikanth']\n"
     ]
    }
   ],
   "source": [
    "print(students[0:3])"
   ]
  },
  {
   "cell_type": "code",
   "execution_count": 19,
   "id": "b9d58250",
   "metadata": {},
   "outputs": [
    {
     "name": "stdout",
     "output_type": "stream",
     "text": [
      "['srikanth', 'ajay']\n"
     ]
    }
   ],
   "source": [
    "print(students[2:4])"
   ]
  },
  {
   "cell_type": "code",
   "execution_count": 20,
   "id": "1a67d798",
   "metadata": {},
   "outputs": [
    {
     "name": "stdout",
     "output_type": "stream",
     "text": [
      "['sonu', 'srikanth', 'balu']\n"
     ]
    }
   ],
   "source": [
    "print(students[0:7:2])"
   ]
  },
  {
   "cell_type": "code",
   "execution_count": 21,
   "id": "3b853f03",
   "metadata": {},
   "outputs": [
    {
     "name": "stdout",
     "output_type": "stream",
     "text": [
      "['sonu', 'ajay']\n"
     ]
    }
   ],
   "source": [
    "print(students[0:7:3])"
   ]
  },
  {
   "cell_type": "code",
   "execution_count": 22,
   "id": "f6af3a34",
   "metadata": {},
   "outputs": [
    {
     "name": "stdout",
     "output_type": "stream",
     "text": [
      "['sonu', 'ruban', 'srikanth', 'ajay', 'balu', 'lakshmi']\n"
     ]
    }
   ],
   "source": [
    "print(students[0:7:1])"
   ]
  },
  {
   "cell_type": "code",
   "execution_count": null,
   "id": "23c0e4aa",
   "metadata": {},
   "outputs": [],
   "source": []
  }
 ],
 "metadata": {
  "kernelspec": {
   "display_name": "Python 3 (ipykernel)",
   "language": "python",
   "name": "python3"
  },
  "language_info": {
   "codemirror_mode": {
    "name": "ipython",
    "version": 3
   },
   "file_extension": ".py",
   "mimetype": "text/x-python",
   "name": "python",
   "nbconvert_exporter": "python",
   "pygments_lexer": "ipython3",
   "version": "3.9.12"
  }
 },
 "nbformat": 4,
 "nbformat_minor": 5
}
