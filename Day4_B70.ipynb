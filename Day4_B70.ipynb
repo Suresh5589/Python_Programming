{
 "cells": [
  {
   "cell_type": "code",
   "execution_count": null,
   "id": "9321cf75",
   "metadata": {},
   "outputs": [],
   "source": [
    "Introdution to list data type"
   ]
  },
  {
   "cell_type": "code",
   "execution_count": null,
   "id": "629f4b63",
   "metadata": {},
   "outputs": [],
   "source": [
    "Definition: A list is a collection of items in a particular order"
   ]
  },
  {
   "cell_type": "code",
   "execution_count": null,
   "id": "79f584ef",
   "metadata": {},
   "outputs": [],
   "source": [
    "Classification: It is classified as a muatable data type"
   ]
  },
  {
   "cell_type": "code",
   "execution_count": null,
   "id": "4732adb2",
   "metadata": {},
   "outputs": [],
   "source": [
    "how to declare the list data type   ------>  []"
   ]
  },
  {
   "cell_type": "code",
   "execution_count": 1,
   "id": "46cfe83e",
   "metadata": {},
   "outputs": [],
   "source": [
    "students = ['ravi','sakthi','siva','bharath','sonu']"
   ]
  },
  {
   "cell_type": "code",
   "execution_count": 2,
   "id": "2359ee24",
   "metadata": {},
   "outputs": [
    {
     "name": "stdout",
     "output_type": "stream",
     "text": [
      "['ravi', 'sakthi', 'siva', 'bharath', 'sonu']\n"
     ]
    }
   ],
   "source": [
    "print(students)"
   ]
  },
  {
   "cell_type": "code",
   "execution_count": null,
   "id": "20e9c7ab",
   "metadata": {},
   "outputs": [],
   "source": [
    "# how to access the elements from the above list....?"
   ]
  },
  {
   "cell_type": "code",
   "execution_count": null,
   "id": "5512364e",
   "metadata": {},
   "outputs": [],
   "source": [
    "understanding the concept of indexing? 0,1,2,3,.....?"
   ]
  },
  {
   "cell_type": "code",
   "execution_count": null,
   "id": "ba1d9a17",
   "metadata": {},
   "outputs": [],
   "source": [
    "# req: I want to access siva name in the output. "
   ]
  },
  {
   "cell_type": "code",
   "execution_count": 6,
   "id": "29700ec2",
   "metadata": {},
   "outputs": [
    {
     "name": "stdout",
     "output_type": "stream",
     "text": [
      "siva\n"
     ]
    }
   ],
   "source": [
    "print(students[2])"
   ]
  },
  {
   "cell_type": "code",
   "execution_count": 7,
   "id": "8ecf067d",
   "metadata": {},
   "outputs": [
    {
     "name": "stdout",
     "output_type": "stream",
     "text": [
      "Siva\n"
     ]
    }
   ],
   "source": [
    "print(students[2].title())"
   ]
  },
  {
   "cell_type": "code",
   "execution_count": 15,
   "id": "cc0fbb61",
   "metadata": {},
   "outputs": [
    {
     "name": "stdout",
     "output_type": "stream",
     "text": [
      "SONU\n"
     ]
    }
   ],
   "source": [
    "print(students[4].upper())"
   ]
  },
  {
   "cell_type": "code",
   "execution_count": null,
   "id": "1ddb915e",
   "metadata": {},
   "outputs": [],
   "source": [
    "1. How to add new element to the list\n",
    "2. How to modify the elements in the list\n",
    "3. How to delete the elements in the list"
   ]
  },
  {
   "cell_type": "code",
   "execution_count": null,
   "id": "ac2e5423",
   "metadata": {},
   "outputs": [],
   "source": [
    "#req: i want to add kayal to the list"
   ]
  },
  {
   "cell_type": "code",
   "execution_count": 16,
   "id": "618ea812",
   "metadata": {},
   "outputs": [],
   "source": [
    "students.append('kayal')"
   ]
  },
  {
   "cell_type": "code",
   "execution_count": 17,
   "id": "a4ffd6f1",
   "metadata": {},
   "outputs": [
    {
     "name": "stdout",
     "output_type": "stream",
     "text": [
      "['ravi', 'sakthi', 'siva', 'bharath', 'sonu', 'kayal', 'kayal', 'kayal']\n"
     ]
    }
   ],
   "source": [
    "print(students)"
   ]
  },
  {
   "cell_type": "code",
   "execution_count": 18,
   "id": "074bf342",
   "metadata": {},
   "outputs": [],
   "source": [
    "students.append('ramu')"
   ]
  },
  {
   "cell_type": "code",
   "execution_count": 19,
   "id": "71caf80e",
   "metadata": {},
   "outputs": [
    {
     "name": "stdout",
     "output_type": "stream",
     "text": [
      "['ravi', 'sakthi', 'siva', 'bharath', 'sonu', 'kayal', 'kayal', 'kayal', 'ramu']\n"
     ]
    }
   ],
   "source": [
    "print(students)"
   ]
  },
  {
   "cell_type": "code",
   "execution_count": null,
   "id": "b8f7b695",
   "metadata": {},
   "outputs": [],
   "source": [
    "#req: i want to add magesh at 3rd position"
   ]
  },
  {
   "cell_type": "code",
   "execution_count": 20,
   "id": "c607fcb3",
   "metadata": {},
   "outputs": [],
   "source": [
    "students.insert(3,'magesh')"
   ]
  },
  {
   "cell_type": "code",
   "execution_count": 21,
   "id": "4ac911cc",
   "metadata": {},
   "outputs": [
    {
     "name": "stdout",
     "output_type": "stream",
     "text": [
      "['ravi', 'sakthi', 'siva', 'magesh', 'bharath', 'sonu', 'kayal', 'kayal', 'kayal', 'ramu']\n"
     ]
    }
   ],
   "source": [
    "print(students)"
   ]
  },
  {
   "cell_type": "code",
   "execution_count": 24,
   "id": "43f5a1e0",
   "metadata": {},
   "outputs": [
    {
     "name": "stdout",
     "output_type": "stream",
     "text": [
      "magesh\n"
     ]
    }
   ],
   "source": [
    "print(students[3])"
   ]
  },
  {
   "cell_type": "code",
   "execution_count": 25,
   "id": "4f5006a2",
   "metadata": {},
   "outputs": [
    {
     "name": "stdout",
     "output_type": "stream",
     "text": [
      "Magesh\n"
     ]
    }
   ],
   "source": [
    "print(students[3].title())"
   ]
  },
  {
   "cell_type": "code",
   "execution_count": null,
   "id": "51d4fa79",
   "metadata": {},
   "outputs": [],
   "source": [
    "How to modifiy the elements in the list"
   ]
  },
  {
   "cell_type": "code",
   "execution_count": null,
   "id": "2ef3bb64",
   "metadata": {},
   "outputs": [],
   "source": [
    "#req: i want to modify ravi to ram"
   ]
  },
  {
   "cell_type": "code",
   "execution_count": 26,
   "id": "f762a663",
   "metadata": {},
   "outputs": [],
   "source": [
    "students[0]='ram'"
   ]
  },
  {
   "cell_type": "code",
   "execution_count": 27,
   "id": "8d6b36b9",
   "metadata": {},
   "outputs": [
    {
     "name": "stdout",
     "output_type": "stream",
     "text": [
      "['ram', 'sakthi', 'siva', 'magesh', 'bharath', 'sonu', 'kayal', 'kayal', 'kayal', 'ramu']\n"
     ]
    }
   ],
   "source": [
    "print(students)"
   ]
  },
  {
   "cell_type": "code",
   "execution_count": null,
   "id": "954c190e",
   "metadata": {},
   "outputs": [],
   "source": [
    "how to delete elements from the list"
   ]
  },
  {
   "cell_type": "code",
   "execution_count": 28,
   "id": "392dbb69",
   "metadata": {},
   "outputs": [],
   "source": [
    "del students[1]"
   ]
  },
  {
   "cell_type": "code",
   "execution_count": 29,
   "id": "60a0ec86",
   "metadata": {},
   "outputs": [
    {
     "name": "stdout",
     "output_type": "stream",
     "text": [
      "['ram', 'siva', 'magesh', 'bharath', 'sonu', 'kayal', 'kayal', 'kayal', 'ramu']\n"
     ]
    }
   ],
   "source": [
    "print(students)"
   ]
  },
  {
   "cell_type": "code",
   "execution_count": null,
   "id": "074bb198",
   "metadata": {},
   "outputs": [],
   "source": []
  }
 ],
 "metadata": {
  "kernelspec": {
   "display_name": "Python 3 (ipykernel)",
   "language": "python",
   "name": "python3"
  },
  "language_info": {
   "codemirror_mode": {
    "name": "ipython",
    "version": 3
   },
   "file_extension": ".py",
   "mimetype": "text/x-python",
   "name": "python",
   "nbconvert_exporter": "python",
   "pygments_lexer": "ipython3",
   "version": "3.9.12"
  }
 },
 "nbformat": 4,
 "nbformat_minor": 5
}
