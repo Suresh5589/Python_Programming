{
 "cells": [
  {
   "cell_type": "code",
   "execution_count": null,
   "id": "d40c8c94",
   "metadata": {},
   "outputs": [],
   "source": [
    "continuation with string"
   ]
  },
  {
   "cell_type": "code",
   "execution_count": 11,
   "id": "72c18ea7",
   "metadata": {},
   "outputs": [
    {
     "name": "stdout",
     "output_type": "stream",
     "text": [
      "raj\n"
     ]
    }
   ],
   "source": [
    "first_name = 'raj'\n",
    "last_name = 'kumar'\n",
    "\n",
    "print(first_name)"
   ]
  },
  {
   "cell_type": "code",
   "execution_count": null,
   "id": "59c3ddbd",
   "metadata": {},
   "outputs": [],
   "source": [
    "# req: i want to get the full name"
   ]
  },
  {
   "cell_type": "code",
   "execution_count": null,
   "id": "2d2bfc15",
   "metadata": {},
   "outputs": [],
   "source": [
    "introduction to \"f\" strings"
   ]
  },
  {
   "cell_type": "code",
   "execution_count": null,
   "id": "6a01131d",
   "metadata": {},
   "outputs": [],
   "source": [
    "general string of \"f\" string\n",
    "\n",
    "f\"custom words {placeholder1}{placeholder2}{placeholder....n}\""
   ]
  },
  {
   "cell_type": "code",
   "execution_count": 13,
   "id": "25f46bbf",
   "metadata": {},
   "outputs": [
    {
     "name": "stdout",
     "output_type": "stream",
     "text": [
      "raj kumar\n"
     ]
    }
   ],
   "source": [
    "full_name = f\"{first_name} {last_name}\"\n",
    "\n",
    "print(full_name)"
   ]
  },
  {
   "cell_type": "code",
   "execution_count": 14,
   "id": "51fdcca4",
   "metadata": {},
   "outputs": [
    {
     "name": "stdout",
     "output_type": "stream",
     "text": [
      "Raj Kumar\n"
     ]
    }
   ],
   "source": [
    "print(full_name.title())"
   ]
  },
  {
   "cell_type": "code",
   "execution_count": 15,
   "id": "62654608",
   "metadata": {},
   "outputs": [
    {
     "name": "stdout",
     "output_type": "stream",
     "text": [
      "RAJ KUMAR\n"
     ]
    }
   ],
   "source": [
    "print(full_name.upper())"
   ]
  },
  {
   "cell_type": "code",
   "execution_count": 19,
   "id": "8fba4689",
   "metadata": {},
   "outputs": [],
   "source": [
    "message = f\"Congratulations {full_name.title()}\""
   ]
  },
  {
   "cell_type": "code",
   "execution_count": 20,
   "id": "83149ec6",
   "metadata": {},
   "outputs": [
    {
     "name": "stdout",
     "output_type": "stream",
     "text": [
      "Congratulations Raj Kumar\n"
     ]
    }
   ],
   "source": [
    "print(message)"
   ]
  },
  {
   "cell_type": "code",
   "execution_count": null,
   "id": "4c795f90",
   "metadata": {},
   "outputs": [],
   "source": [
    "adding whitespaces to strings:"
   ]
  },
  {
   "cell_type": "code",
   "execution_count": null,
   "id": "eb5dba61",
   "metadata": {},
   "outputs": [],
   "source": [
    "#req:"
   ]
  },
  {
   "cell_type": "code",
   "execution_count": 22,
   "id": "55c12f2d",
   "metadata": {},
   "outputs": [
    {
     "name": "stdout",
     "output_type": "stream",
     "text": [
      "favourite_fruits:applemangoorangebanana\n"
     ]
    }
   ],
   "source": [
    "print(\"favourite_fruits:applemangoorangebanana\")"
   ]
  },
  {
   "cell_type": "code",
   "execution_count": 23,
   "id": "99aa8af8",
   "metadata": {},
   "outputs": [
    {
     "name": "stdout",
     "output_type": "stream",
     "text": [
      "Favourite_Fruits:\n",
      "Apple\n",
      "Mango\n",
      "Orange\n",
      "Banana\n"
     ]
    }
   ],
   "source": [
    "print(\"favourite_fruits:\\napple\\nmango\\norange\\nbanana\".title())"
   ]
  },
  {
   "cell_type": "code",
   "execution_count": 24,
   "id": "8c504dce",
   "metadata": {},
   "outputs": [
    {
     "name": "stdout",
     "output_type": "stream",
     "text": [
      "FAVOURITE_FRUITS:\n",
      "\tAPPLE\n",
      "\tMANGO\n",
      "\tORANGE\n",
      "\tBANANA\n"
     ]
    }
   ],
   "source": [
    "print(\"favourite_fruits:\\n\\tapple\\n\\tmango\\n\\torange\\n\\tbanana\".upper())"
   ]
  },
  {
   "cell_type": "code",
   "execution_count": null,
   "id": "237cdaac",
   "metadata": {},
   "outputs": [],
   "source": [
    "\\n new line feed,\\t tab space"
   ]
  },
  {
   "cell_type": "code",
   "execution_count": null,
   "id": "e4d3816f",
   "metadata": {},
   "outputs": [],
   "source": []
  },
  {
   "cell_type": "code",
   "execution_count": null,
   "id": "81385cb6",
   "metadata": {},
   "outputs": [],
   "source": [
    "how to remove the whitespace from the string"
   ]
  },
  {
   "cell_type": "code",
   "execution_count": 25,
   "id": "e3d03a06",
   "metadata": {},
   "outputs": [
    {
     "name": "stdout",
     "output_type": "stream",
     "text": [
      "python\n"
     ]
    }
   ],
   "source": [
    "name = 'python'\n",
    "\n",
    "print(name)"
   ]
  },
  {
   "cell_type": "code",
   "execution_count": 26,
   "id": "cc1d08c2",
   "metadata": {},
   "outputs": [
    {
     "name": "stdout",
     "output_type": "stream",
     "text": [
      "  raghul\n"
     ]
    }
   ],
   "source": [
    "name1 = '  raghul'\n",
    "\n",
    "print(name1)"
   ]
  },
  {
   "cell_type": "code",
   "execution_count": 27,
   "id": "b6b9f2e8",
   "metadata": {},
   "outputs": [
    {
     "name": "stdout",
     "output_type": "stream",
     "text": [
      "ramesh   \n"
     ]
    }
   ],
   "source": [
    "name2 = 'ramesh   '\n",
    "\n",
    "print(name2)"
   ]
  },
  {
   "cell_type": "code",
   "execution_count": 28,
   "id": "83899783",
   "metadata": {},
   "outputs": [
    {
     "data": {
      "text/plain": [
       "'raghul'"
      ]
     },
     "execution_count": 28,
     "metadata": {},
     "output_type": "execute_result"
    }
   ],
   "source": [
    "#lstrip ---- it will remove left side blank spaces\n",
    "\n",
    "name1.lstrip()"
   ]
  },
  {
   "cell_type": "code",
   "execution_count": 29,
   "id": "aefd3a68",
   "metadata": {},
   "outputs": [
    {
     "data": {
      "text/plain": [
       "'ramesh'"
      ]
     },
     "execution_count": 29,
     "metadata": {},
     "output_type": "execute_result"
    }
   ],
   "source": [
    "#rstrip ---- it will remove right side blank spaces\n",
    "\n",
    "name2.rstrip()"
   ]
  },
  {
   "cell_type": "code",
   "execution_count": 30,
   "id": "3a1dc288",
   "metadata": {},
   "outputs": [
    {
     "data": {
      "text/plain": [
       "'ramu'"
      ]
     },
     "execution_count": 30,
     "metadata": {},
     "output_type": "execute_result"
    }
   ],
   "source": [
    "#if the text contains blank spaces both sides\n",
    "\n",
    "name3 = '    ramu   '\n",
    "\n",
    "name3.strip()"
   ]
  },
  {
   "cell_type": "code",
   "execution_count": null,
   "id": "01c12d21",
   "metadata": {},
   "outputs": [],
   "source": [
    "#strip() function will do the search operation to identify the blank spaces, \n",
    "but lstrip() and rstrip() will not do the search operation it will directly eleminate the blank spaces"
   ]
  }
 ],
 "metadata": {
  "kernelspec": {
   "display_name": "Python 3 (ipykernel)",
   "language": "python",
   "name": "python3"
  },
  "language_info": {
   "codemirror_mode": {
    "name": "ipython",
    "version": 3
   },
   "file_extension": ".py",
   "mimetype": "text/x-python",
   "name": "python",
   "nbconvert_exporter": "python",
   "pygments_lexer": "ipython3",
   "version": "3.9.12"
  }
 },
 "nbformat": 4,
 "nbformat_minor": 5
}
