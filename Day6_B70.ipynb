{
 "cells": [
  {
   "cell_type": "code",
   "execution_count": null,
   "id": "2e7cbd2e",
   "metadata": {},
   "outputs": [],
   "source": [
    "Introduction to looping statements\n",
    "\n",
    "   1. Understanding the concept of for loop:\n",
    "\n",
    "#genral syntax of for loop\n",
    "\n",
    "#formula\n",
    "\n",
    "for tempvar in mainvar:\n",
    "    print(tempvar)\n",
    "    "
   ]
  },
  {
   "cell_type": "code",
   "execution_count": 1,
   "id": "23821ce0",
   "metadata": {},
   "outputs": [],
   "source": [
    "students = ['kumar','santosh','bharath','raghul','ram']"
   ]
  },
  {
   "cell_type": "code",
   "execution_count": 2,
   "id": "e9be9d1a",
   "metadata": {},
   "outputs": [
    {
     "name": "stdout",
     "output_type": "stream",
     "text": [
      "['kumar', 'santosh', 'bharath', 'raghul', 'ram']\n"
     ]
    }
   ],
   "source": [
    "print(students)"
   ]
  },
  {
   "cell_type": "code",
   "execution_count": 3,
   "id": "06f4268f",
   "metadata": {},
   "outputs": [
    {
     "name": "stdout",
     "output_type": "stream",
     "text": [
      "keep it up the good work, santosh\n"
     ]
    }
   ],
   "source": [
    "print(f\"keep it up the good work, {students[1]}\")"
   ]
  },
  {
   "cell_type": "code",
   "execution_count": 5,
   "id": "74c9e817",
   "metadata": {},
   "outputs": [
    {
     "name": "stdout",
     "output_type": "stream",
     "text": [
      "keep it up the good work, Santosh\n"
     ]
    }
   ],
   "source": [
    "print(f\"keep it up the good work, {students[1].title()}\")"
   ]
  },
  {
   "cell_type": "code",
   "execution_count": 6,
   "id": "2b97bf85",
   "metadata": {},
   "outputs": [
    {
     "name": "stdout",
     "output_type": "stream",
     "text": [
      "Keep up the good work, kumar\n",
      "Keep up the good work, santosh\n",
      "Keep up the good work, bharath\n",
      "Keep up the good work, raghul\n",
      "Keep up the good work, ram\n"
     ]
    }
   ],
   "source": [
    "for i in students:\n",
    "    print(f\"Keep up the good work, {i}\")"
   ]
  },
  {
   "cell_type": "code",
   "execution_count": 8,
   "id": "1dc07712",
   "metadata": {},
   "outputs": [
    {
     "name": "stdout",
     "output_type": "stream",
     "text": [
      "Keep up the good work, Kumar\n",
      "Keep up the good work, Santosh\n",
      "Keep up the good work, Bharath\n",
      "Keep up the good work, Raghul\n",
      "Keep up the good work, Ram\n"
     ]
    }
   ],
   "source": [
    "for y in students:\n",
    "    print(f\"Keep up the good work, {y.title()}\")"
   ]
  },
  {
   "cell_type": "code",
   "execution_count": 9,
   "id": "43305e83",
   "metadata": {},
   "outputs": [
    {
     "name": "stdout",
     "output_type": "stream",
     "text": [
      "Keep up the good work, kumar\n",
      "Keep up the good work, santosh\n",
      "Keep up the good work, bharath\n",
      "Keep up the good work, raghul\n",
      "Keep up the good work, ram\n"
     ]
    }
   ],
   "source": [
    "for y in students:\n",
    "    print(f\"Keep up the good work, {y}\")\n",
    "    "
   ]
  },
  {
   "cell_type": "code",
   "execution_count": 10,
   "id": "c898ede8",
   "metadata": {},
   "outputs": [
    {
     "name": "stdout",
     "output_type": "stream",
     "text": [
      "Keep up the good work, kumar\n",
      "I am looking forward to receive your gittub notes everyday, kumar\n",
      "Keep up the good work, santosh\n",
      "I am looking forward to receive your gittub notes everyday, santosh\n",
      "Keep up the good work, bharath\n",
      "I am looking forward to receive your gittub notes everyday, bharath\n",
      "Keep up the good work, raghul\n",
      "I am looking forward to receive your gittub notes everyday, raghul\n",
      "Keep up the good work, ram\n",
      "I am looking forward to receive your gittub notes everyday, ram\n"
     ]
    }
   ],
   "source": [
    "for y in students:\n",
    "    print(f\"Keep up the good work, {y}\")\n",
    "    print(f\"I am looking forward to receive your gittub notes everyday, {y}\")"
   ]
  },
  {
   "cell_type": "code",
   "execution_count": 11,
   "id": "9013d8bd",
   "metadata": {},
   "outputs": [
    {
     "name": "stdout",
     "output_type": "stream",
     "text": [
      "Keep up the good work, kumar\n",
      "I am looking forward to receive your gittub notes everyday, kumar\n",
      "\n",
      "Keep up the good work, santosh\n",
      "I am looking forward to receive your gittub notes everyday, santosh\n",
      "\n",
      "Keep up the good work, bharath\n",
      "I am looking forward to receive your gittub notes everyday, bharath\n",
      "\n",
      "Keep up the good work, raghul\n",
      "I am looking forward to receive your gittub notes everyday, raghul\n",
      "\n",
      "Keep up the good work, ram\n",
      "I am looking forward to receive your gittub notes everyday, ram\n",
      "\n"
     ]
    }
   ],
   "source": [
    "for y in students:\n",
    "    print(f\"Keep up the good work, {y}\")\n",
    "    print(f\"I am looking forward to receive your gittub notes everyday, {y}\\n\")"
   ]
  },
  {
   "cell_type": "code",
   "execution_count": 12,
   "id": "15d66d30",
   "metadata": {},
   "outputs": [
    {
     "name": "stdout",
     "output_type": "stream",
     "text": [
      "Keep up the good work, kumar\n",
      "I am looking forward to receive your gittub notes everyday, kumar\n",
      "\n",
      "Keep up the good work, santosh\n",
      "I am looking forward to receive your gittub notes everyday, santosh\n",
      "\n",
      "Keep up the good work, bharath\n",
      "I am looking forward to receive your gittub notes everyday, bharath\n",
      "\n",
      "Keep up the good work, raghul\n",
      "I am looking forward to receive your gittub notes everyday, raghul\n",
      "\n",
      "Keep up the good work, ram\n",
      "I am looking forward to receive your gittub notes everyday, ram\n",
      "\n",
      "Thank you all for showing intrest in learning python\n"
     ]
    }
   ],
   "source": [
    "for y in students:\n",
    "    print(f\"Keep up the good work, {y}\")\n",
    "    print(f\"I am looking forward to receive your gittub notes everyday, {y}\\n\")\n",
    "    \n",
    "print(\"Thank you all for showing intrest in learning python\")"
   ]
  },
  {
   "cell_type": "code",
   "execution_count": null,
   "id": "bd57660c",
   "metadata": {},
   "outputs": [],
   "source": []
  },
  {
   "cell_type": "code",
   "execution_count": null,
   "id": "f477c395",
   "metadata": {},
   "outputs": [],
   "source": [
    "Introduction to conditional statements:\n",
    "    #genral syntax of conditional statement\n",
    "    \n",
    "    if else -----> condition"
   ]
  },
  {
   "cell_type": "code",
   "execution_count": null,
   "id": "8379d30b",
   "metadata": {},
   "outputs": [],
   "source": [
    "voting right in india ----- 18 or more than 18 years\n",
    "\n",
    "#buliding a voting application to validate whether the person is elegible to vote or not?"
   ]
  },
  {
   "cell_type": "code",
   "execution_count": null,
   "id": "1a4cd44b",
   "metadata": {},
   "outputs": [],
   "source": []
  },
  {
   "cell_type": "code",
   "execution_count": null,
   "id": "7fcfea94",
   "metadata": {},
   "outputs": [],
   "source": []
  },
  {
   "cell_type": "code",
   "execution_count": null,
   "id": "fc9ead37",
   "metadata": {},
   "outputs": [],
   "source": []
  },
  {
   "cell_type": "code",
   "execution_count": null,
   "id": "fe766573",
   "metadata": {},
   "outputs": [],
   "source": []
  },
  {
   "cell_type": "code",
   "execution_count": null,
   "id": "2db0ca0e",
   "metadata": {},
   "outputs": [],
   "source": []
  },
  {
   "cell_type": "code",
   "execution_count": null,
   "id": "30f1e957",
   "metadata": {},
   "outputs": [],
   "source": []
  },
  {
   "cell_type": "code",
   "execution_count": null,
   "id": "c5306e4d",
   "metadata": {},
   "outputs": [],
   "source": []
  },
  {
   "cell_type": "code",
   "execution_count": null,
   "id": "e84425a9",
   "metadata": {},
   "outputs": [],
   "source": []
  },
  {
   "cell_type": "code",
   "execution_count": null,
   "id": "bc0d05ef",
   "metadata": {},
   "outputs": [],
   "source": []
  },
  {
   "cell_type": "code",
   "execution_count": null,
   "id": "fe30dc38",
   "metadata": {},
   "outputs": [],
   "source": []
  },
  {
   "cell_type": "code",
   "execution_count": null,
   "id": "210b5824",
   "metadata": {},
   "outputs": [],
   "source": []
  }
 ],
 "metadata": {
  "kernelspec": {
   "display_name": "Python 3 (ipykernel)",
   "language": "python",
   "name": "python3"
  },
  "language_info": {
   "codemirror_mode": {
    "name": "ipython",
    "version": 3
   },
   "file_extension": ".py",
   "mimetype": "text/x-python",
   "name": "python",
   "nbconvert_exporter": "python",
   "pygments_lexer": "ipython3",
   "version": "3.9.12"
  }
 },
 "nbformat": 4,
 "nbformat_minor": 5
}
