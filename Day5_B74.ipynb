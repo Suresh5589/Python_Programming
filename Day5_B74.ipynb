{
 "cells": [
  {
   "cell_type": "code",
   "execution_count": null,
   "id": "2eb62cb0",
   "metadata": {},
   "outputs": [],
   "source": [
    "Organising the list datatype:"
   ]
  },
  {
   "cell_type": "code",
   "execution_count": 2,
   "id": "440d151e",
   "metadata": {},
   "outputs": [],
   "source": [
    "cars = ['benz','maruthi','audi','bmw','hundai','honda']"
   ]
  },
  {
   "cell_type": "code",
   "execution_count": 3,
   "id": "999705cc",
   "metadata": {},
   "outputs": [
    {
     "name": "stdout",
     "output_type": "stream",
     "text": [
      "['benz', 'maruthi', 'audi', 'bmw', 'hundai', 'honda']\n"
     ]
    }
   ],
   "source": [
    "print(cars)"
   ]
  },
  {
   "cell_type": "code",
   "execution_count": null,
   "id": "5b500faa",
   "metadata": {},
   "outputs": [],
   "source": [
    "#req: i want to get the listin alphabet order"
   ]
  },
  {
   "cell_type": "code",
   "execution_count": null,
   "id": "3f4a8bde",
   "metadata": {},
   "outputs": [],
   "source": [
    "two approches\n",
    "\n",
    "    1.Temperory approch: sorted\n",
    "    2.Permenent approch: sort"
   ]
  },
  {
   "cell_type": "code",
   "execution_count": 4,
   "id": "038137a5",
   "metadata": {},
   "outputs": [
    {
     "name": "stdout",
     "output_type": "stream",
     "text": [
      "['audi', 'benz', 'bmw', 'honda', 'hundai', 'maruthi']\n"
     ]
    }
   ],
   "source": [
    "print(sorted(cars))"
   ]
  },
  {
   "cell_type": "code",
   "execution_count": 5,
   "id": "da37d1c6",
   "metadata": {},
   "outputs": [],
   "source": [
    "cars.sort()"
   ]
  },
  {
   "cell_type": "code",
   "execution_count": 6,
   "id": "e86585ae",
   "metadata": {},
   "outputs": [
    {
     "name": "stdout",
     "output_type": "stream",
     "text": [
      "['audi', 'benz', 'bmw', 'honda', 'hundai', 'maruthi']\n"
     ]
    }
   ],
   "source": [
    "print(cars)"
   ]
  },
  {
   "cell_type": "code",
   "execution_count": 7,
   "id": "9e3c1adf",
   "metadata": {},
   "outputs": [],
   "source": [
    "cars.reverse()"
   ]
  },
  {
   "cell_type": "code",
   "execution_count": 8,
   "id": "0a05f227",
   "metadata": {},
   "outputs": [
    {
     "name": "stdout",
     "output_type": "stream",
     "text": [
      "['maruthi', 'hundai', 'honda', 'bmw', 'benz', 'audi']\n"
     ]
    }
   ],
   "source": [
    "print(cars)"
   ]
  },
  {
   "cell_type": "code",
   "execution_count": 9,
   "id": "47408806",
   "metadata": {},
   "outputs": [
    {
     "data": {
      "text/plain": [
       "6"
      ]
     },
     "execution_count": 9,
     "metadata": {},
     "output_type": "execute_result"
    }
   ],
   "source": [
    "len(cars)"
   ]
  },
  {
   "cell_type": "code",
   "execution_count": null,
   "id": "4c371309",
   "metadata": {},
   "outputs": [],
   "source": [
    "introduction to slicing:"
   ]
  },
  {
   "cell_type": "code",
   "execution_count": 10,
   "id": "52a5bb08",
   "metadata": {},
   "outputs": [],
   "source": [
    "students = ['srikanth','arokia','ruban','suresh','divya','pavitra','nivetha']"
   ]
  },
  {
   "cell_type": "code",
   "execution_count": 11,
   "id": "123abf46",
   "metadata": {},
   "outputs": [
    {
     "name": "stdout",
     "output_type": "stream",
     "text": [
      "['srikanth', 'arokia', 'ruban', 'suresh', 'divya', 'pavitra', 'nivetha']\n"
     ]
    }
   ],
   "source": [
    "print(students)"
   ]
  },
  {
   "cell_type": "code",
   "execution_count": 12,
   "id": "fead58e6",
   "metadata": {},
   "outputs": [
    {
     "data": {
      "text/plain": [
       "list"
      ]
     },
     "execution_count": 12,
     "metadata": {},
     "output_type": "execute_result"
    }
   ],
   "source": [
    "type(students)"
   ]
  },
  {
   "cell_type": "code",
   "execution_count": null,
   "id": "311af769",
   "metadata": {},
   "outputs": [],
   "source": [
    "#general syntax of slicing"
   ]
  },
  {
   "cell_type": "code",
   "execution_count": null,
   "id": "849327ea",
   "metadata": {},
   "outputs": [],
   "source": [
    "[startvalue:stopvalue:stepcount]"
   ]
  },
  {
   "cell_type": "code",
   "execution_count": null,
   "id": "8fa35966",
   "metadata": {},
   "outputs": [],
   "source": [
    "Note: stop value is always exclusive -to include we have to increment"
   ]
  },
  {
   "cell_type": "code",
   "execution_count": 13,
   "id": "18467735",
   "metadata": {},
   "outputs": [
    {
     "name": "stdout",
     "output_type": "stream",
     "text": [
      "['srikanth']\n"
     ]
    }
   ],
   "source": [
    "print(students[0:1])"
   ]
  },
  {
   "cell_type": "code",
   "execution_count": 14,
   "id": "05a8e158",
   "metadata": {},
   "outputs": [
    {
     "name": "stdout",
     "output_type": "stream",
     "text": [
      "['srikanth', 'arokia']\n"
     ]
    }
   ],
   "source": [
    "print(students[0:2])"
   ]
  },
  {
   "cell_type": "code",
   "execution_count": 16,
   "id": "425e2e3b",
   "metadata": {},
   "outputs": [
    {
     "name": "stdout",
     "output_type": "stream",
     "text": [
      "['srikanth', 'ruban', 'divya', 'nivetha']\n"
     ]
    }
   ],
   "source": [
    "print(students[0:7:2])"
   ]
  },
  {
   "cell_type": "code",
   "execution_count": null,
   "id": "845adf35",
   "metadata": {},
   "outputs": [],
   "source": []
  },
  {
   "cell_type": "code",
   "execution_count": null,
   "id": "325b5448",
   "metadata": {},
   "outputs": [],
   "source": []
  },
  {
   "cell_type": "code",
   "execution_count": null,
   "id": "213b0b6b",
   "metadata": {},
   "outputs": [],
   "source": []
  },
  {
   "cell_type": "code",
   "execution_count": null,
   "id": "45117fda",
   "metadata": {},
   "outputs": [],
   "source": []
  },
  {
   "cell_type": "code",
   "execution_count": null,
   "id": "94a6a12d",
   "metadata": {},
   "outputs": [],
   "source": []
  }
 ],
 "metadata": {
  "kernelspec": {
   "display_name": "Python 3 (ipykernel)",
   "language": "python",
   "name": "python3"
  },
  "language_info": {
   "codemirror_mode": {
    "name": "ipython",
    "version": 3
   },
   "file_extension": ".py",
   "mimetype": "text/x-python",
   "name": "python",
   "nbconvert_exporter": "python",
   "pygments_lexer": "ipython3",
   "version": "3.9.12"
  }
 },
 "nbformat": 4,
 "nbformat_minor": 5
}
