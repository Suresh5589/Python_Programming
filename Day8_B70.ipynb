{
 "cells": [
  {
   "cell_type": "code",
   "execution_count": null,
   "id": "07100f40",
   "metadata": {},
   "outputs": [],
   "source": [
    "introduction to dictionaries:"
   ]
  },
  {
   "cell_type": "code",
   "execution_count": null,
   "id": "a33a5784",
   "metadata": {},
   "outputs": [],
   "source": [
    "defination: A dictionary is a combination of key value pairs\n",
    "classification: it is classified as an mutable datatype\n",
    "how to define/declare the dictionary ==== {}"
   ]
  },
  {
   "cell_type": "code",
   "execution_count": null,
   "id": "252835b0",
   "metadata": {},
   "outputs": [],
   "source": [
    "#req: to create a alien game:"
   ]
  },
  {
   "cell_type": "code",
   "execution_count": 1,
   "id": "bffdd63a",
   "metadata": {},
   "outputs": [],
   "source": [
    "alien = {'colour':'green','points':5}"
   ]
  },
  {
   "cell_type": "code",
   "execution_count": 2,
   "id": "5fd3e83c",
   "metadata": {},
   "outputs": [
    {
     "name": "stdout",
     "output_type": "stream",
     "text": [
      "{'colour': 'green', 'points': 5}\n"
     ]
    }
   ],
   "source": [
    "print(alien)"
   ]
  },
  {
   "cell_type": "code",
   "execution_count": 3,
   "id": "34ba6e4f",
   "metadata": {},
   "outputs": [
    {
     "data": {
      "text/plain": [
       "dict"
      ]
     },
     "execution_count": 3,
     "metadata": {},
     "output_type": "execute_result"
    }
   ],
   "source": [
    "type(alien)"
   ]
  },
  {
   "cell_type": "code",
   "execution_count": null,
   "id": "ac83b6cb",
   "metadata": {},
   "outputs": [],
   "source": [
    "# how to add a key value pair to the dictionary"
   ]
  },
  {
   "cell_type": "code",
   "execution_count": 4,
   "id": "dee26e4e",
   "metadata": {},
   "outputs": [],
   "source": [
    "alien['start_position']='0'"
   ]
  },
  {
   "cell_type": "code",
   "execution_count": 5,
   "id": "43ed6c2b",
   "metadata": {},
   "outputs": [
    {
     "name": "stdout",
     "output_type": "stream",
     "text": [
      "{'colour': 'green', 'points': 5, 'start_position': '0'}\n"
     ]
    }
   ],
   "source": [
    "print(alien)"
   ]
  },
  {
   "cell_type": "code",
   "execution_count": null,
   "id": "5b32042d",
   "metadata": {},
   "outputs": [],
   "source": [
    "#req: i want to change the colour of alien"
   ]
  },
  {
   "cell_type": "code",
   "execution_count": 6,
   "id": "07821704",
   "metadata": {},
   "outputs": [],
   "source": [
    "alien['colour']='red'"
   ]
  },
  {
   "cell_type": "code",
   "execution_count": 7,
   "id": "a91b2a79",
   "metadata": {},
   "outputs": [
    {
     "name": "stdout",
     "output_type": "stream",
     "text": [
      "{'colour': 'red', 'points': 5, 'start_position': '0'}\n"
     ]
    }
   ],
   "source": [
    "print(alien)"
   ]
  },
  {
   "cell_type": "code",
   "execution_count": null,
   "id": "01182545",
   "metadata": {},
   "outputs": [],
   "source": [
    "#how to delete the key value\n",
    "\n",
    "#req: i want to delete the points"
   ]
  },
  {
   "cell_type": "code",
   "execution_count": 9,
   "id": "2b34011f",
   "metadata": {},
   "outputs": [],
   "source": [
    "del alien['points']"
   ]
  },
  {
   "cell_type": "code",
   "execution_count": 10,
   "id": "1ca7e6fe",
   "metadata": {},
   "outputs": [
    {
     "name": "stdout",
     "output_type": "stream",
     "text": [
      "{'colour': 'red', 'start_position': '0'}\n"
     ]
    }
   ],
   "source": [
    "print(alien)"
   ]
  },
  {
   "cell_type": "code",
   "execution_count": null,
   "id": "c9416108",
   "metadata": {},
   "outputs": [],
   "source": []
  },
  {
   "cell_type": "code",
   "execution_count": null,
   "id": "32dc3853",
   "metadata": {},
   "outputs": [],
   "source": [
    "implimetation for loop on top of a dictionary:"
   ]
  },
  {
   "cell_type": "code",
   "execution_count": null,
   "id": "3bf2182f",
   "metadata": {},
   "outputs": [],
   "source": []
  },
  {
   "cell_type": "code",
   "execution_count": null,
   "id": "228cc134",
   "metadata": {},
   "outputs": [],
   "source": [
    "for loop syntax:"
   ]
  },
  {
   "cell_type": "code",
   "execution_count": null,
   "id": "e878d4fa",
   "metadata": {},
   "outputs": [],
   "source": [
    "for tempvar in mainvar:\n",
    "    print(tempvar)"
   ]
  },
  {
   "cell_type": "code",
   "execution_count": null,
   "id": "b2fdfbf1",
   "metadata": {},
   "outputs": [],
   "source": []
  },
  {
   "cell_type": "code",
   "execution_count": null,
   "id": "5c64fc66",
   "metadata": {},
   "outputs": [],
   "source": [
    "for tempvar1,tempvar2 in mainvar.items()\n",
    "    print(tempvar1)\n",
    "    print(tempvar2)"
   ]
  },
  {
   "cell_type": "code",
   "execution_count": null,
   "id": "e5d0106e",
   "metadata": {},
   "outputs": [],
   "source": [
    "#req: to create a account in facebook"
   ]
  },
  {
   "cell_type": "code",
   "execution_count": 11,
   "id": "247bdb65",
   "metadata": {},
   "outputs": [],
   "source": [
    "username = {'firstname':'Suresh','lastname':'Srinivasan','dob':'05-05-1989','pwd':54321,'address':'chennai'}"
   ]
  },
  {
   "cell_type": "code",
   "execution_count": 12,
   "id": "7d12f148",
   "metadata": {},
   "outputs": [
    {
     "name": "stdout",
     "output_type": "stream",
     "text": [
      "{'firstname': 'Suresh', 'lastname': 'Srinivasan', 'dob': '05-05-1989', 'pwd': 54321, 'address': 'chennai'}\n"
     ]
    }
   ],
   "source": [
    "print(username)"
   ]
  },
  {
   "cell_type": "code",
   "execution_count": 13,
   "id": "fec59ea0",
   "metadata": {},
   "outputs": [
    {
     "name": "stdout",
     "output_type": "stream",
     "text": [
      "firstname\n",
      "Suresh\n",
      "lastname\n",
      "Srinivasan\n",
      "dob\n",
      "05-05-1989\n",
      "pwd\n",
      "54321\n",
      "address\n",
      "chennai\n"
     ]
    }
   ],
   "source": [
    "for x,y in username.items():\n",
    "    print(x)\n",
    "    print(y)"
   ]
  },
  {
   "cell_type": "code",
   "execution_count": null,
   "id": "fbe459a2",
   "metadata": {},
   "outputs": [],
   "source": [
    "# i want only keys ----- how to get keys"
   ]
  },
  {
   "cell_type": "code",
   "execution_count": 14,
   "id": "eba03f14",
   "metadata": {},
   "outputs": [
    {
     "name": "stdout",
     "output_type": "stream",
     "text": [
      "firstname\n",
      "lastname\n",
      "dob\n",
      "pwd\n",
      "address\n"
     ]
    }
   ],
   "source": [
    "for x in username.keys():\n",
    "    print(x)"
   ]
  },
  {
   "cell_type": "code",
   "execution_count": null,
   "id": "8f326c26",
   "metadata": {},
   "outputs": [],
   "source": [
    "# i wnat only values ----- how to get the values"
   ]
  },
  {
   "cell_type": "code",
   "execution_count": 15,
   "id": "42bfb9aa",
   "metadata": {},
   "outputs": [
    {
     "name": "stdout",
     "output_type": "stream",
     "text": [
      "Suresh\n",
      "Srinivasan\n",
      "05-05-1989\n",
      "54321\n",
      "chennai\n"
     ]
    }
   ],
   "source": [
    "for x in username.values():\n",
    "    print(x)"
   ]
  },
  {
   "cell_type": "code",
   "execution_count": null,
   "id": "51b250c3",
   "metadata": {},
   "outputs": [],
   "source": []
  },
  {
   "cell_type": "code",
   "execution_count": null,
   "id": "3bc02680",
   "metadata": {},
   "outputs": [],
   "source": []
  },
  {
   "cell_type": "code",
   "execution_count": null,
   "id": "d06eda8f",
   "metadata": {},
   "outputs": [],
   "source": []
  },
  {
   "cell_type": "code",
   "execution_count": null,
   "id": "fdad6f36",
   "metadata": {},
   "outputs": [],
   "source": []
  }
 ],
 "metadata": {
  "kernelspec": {
   "display_name": "Python 3 (ipykernel)",
   "language": "python",
   "name": "python3"
  },
  "language_info": {
   "codemirror_mode": {
    "name": "ipython",
    "version": 3
   },
   "file_extension": ".py",
   "mimetype": "text/x-python",
   "name": "python",
   "nbconvert_exporter": "python",
   "pygments_lexer": "ipython3",
   "version": "3.9.12"
  }
 },
 "nbformat": 4,
 "nbformat_minor": 5
}
